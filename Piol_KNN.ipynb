{
  "nbformat": 4,
  "nbformat_minor": 0,
  "metadata": {
    "colab": {
      "name": "Piol_KNN.ipynb",
      "version": "0.3.2",
      "provenance": [],
      "collapsed_sections": []
    },
    "kernelspec": {
      "name": "python3",
      "display_name": "Python 3"
    }
  },
  "cells": [
    {
      "cell_type": "markdown",
      "metadata": {
        "id": "RLy6XNbWufKh",
        "colab_type": "text"
      },
      "source": [
        "# 0) Resumo\n",
        "\n",
        "1.  Importa dados\n",
        "\n",
        "* data[ind][lei] =  dados originais em modificacao\n",
        "* data2[ind][lei] = dados com filtro butterworth 20hz\n",
        "\n",
        "2.  Segmenta dados\n",
        "* data4[ind][lei][classe] = divisao com comprimento fixo 5 janelas base no trigger\n",
        "* data5[ind][lei][classe] = divisao com comprimento fixo 5 janelas com \"\"centralizacao\"\"\n",
        "* x[id] = (0 a 3121) janelas capturadas\n",
        "* z[id] = (0 a 13) classe atribuida a x[id]\n",
        "* **y**[id] = (0 a 6) classes de movimentos.\n"
      ]
    },
    {
      "cell_type": "markdown",
      "metadata": {
        "id": "c0-V-6HPEHwc",
        "colab_type": "text"
      },
      "source": [
        "# 1) Importar dados GITHUB"
      ]
    },
    {
      "cell_type": "markdown",
      "metadata": {
        "id": "KridZT7-uBpr",
        "colab_type": "text"
      },
      "source": [
        "● Importa dados diretamente dos arquivos CSV originais (não tratados). (**github**)"
      ]
    },
    {
      "cell_type": "code",
      "metadata": {
        "id": "K7F6mzawxr_R",
        "colab_type": "code",
        "outputId": "2d033d73-0688-4203-cca9-d6780cd09254",
        "colab": {
          "base_uri": "https://localhost:8080/",
          "height": 34
        }
      },
      "source": [
        "import pandas as pd\n",
        "import numpy as np\n",
        "url = \"https://raw.githubusercontent.com/pinojoke/Gestures_InertialSensors_EAAI/master/\"\n",
        "subjects = list(range(20))\n",
        "mesurements = list(range(10))\n",
        "data = []\n",
        "for s in subjects:\n",
        "  data.append([])\n",
        "  for m in mesurements:\n",
        "    filename = \"subject\"+str(s+1)+\"_measurement\"+str(m+1)+\".csv\"\n",
        "    #print(filename)\n",
        "    data[s].append(\n",
        "        np.array(\n",
        "            pd.read_csv(url+filename, header=None, encoding='utf8')))\n",
        "print('Ok')"
      ],
      "execution_count": 0,
      "outputs": [
        {
          "output_type": "stream",
          "text": [
            "Ok\n"
          ],
          "name": "stdout"
        }
      ]
    },
    {
      "cell_type": "markdown",
      "metadata": {
        "id": "ySZq-mi0bBDJ",
        "colab_type": "text"
      },
      "source": [
        "# 1.3 Extratores de características\n",
        "Não usados por enquanto."
      ]
    },
    {
      "cell_type": "code",
      "metadata": {
        "id": "v5SByRepjNRT",
        "colab_type": "code",
        "colab": {}
      },
      "source": [
        "def getiavfeat(x, winsize=None, wininc=None, datawin=None):\n",
        "  if winsize==None:\n",
        "    winsize = x.shape[0]\n",
        "  if wininc==None:\n",
        "    wininc = winsize\n",
        "  if datawin ==None:\n",
        "    datawin = np.ones((winsize,1))\n",
        "  datasize = x.shape[0]\n",
        "  Nsignals = x.shape[1]\n",
        "  numwin = floor((datasize-winsize)/wininc)+1\n",
        "  feat = np.zeros((numwin,Nsignals))\n",
        "  st = 0\n",
        "  en = winsize\n",
        "  for i in range(numwin):\n",
        "    curwin = np.multiply(x[st:en,:],np.matlib.repmat(datawin,1,Nsignals))\n",
        "    feat[i,:] = np.sum(np.absolute(curwin), axis=0)\n",
        "    st += wininc\n",
        "    en += wininc\n",
        "  return feat"
      ],
      "execution_count": 0,
      "outputs": []
    },
    {
      "cell_type": "code",
      "metadata": {
        "id": "4s3mvJ4Kl8fv",
        "colab_type": "code",
        "colab": {}
      },
      "source": [
        "def getmavfeat(x, winsize=None, wininc=None, datawin=None):\n",
        "  if winsize==None:\n",
        "    winsize = x.shape[0]\n",
        "  if wininc==None:\n",
        "    wininc = winsize\n",
        "  if datawin ==None:\n",
        "    datawin = np.ones((winsize,1))\n",
        "  datasize = x.shape[0]\n",
        "  Nsignals = x.shape[1]\n",
        "  numwin = floor((datasize-winsize)/wininc)+1\n",
        "  feat = np.zeros((numwin,Nsignals))\n",
        "  st = 0\n",
        "  en = winsize\n",
        "  for i in range(numwin):\n",
        "    curwin = np.multiply(x[st:en,:],np.matlib.repmat(datawin,1,Nsignals))\n",
        "    feat[i,:] = np.mean(np.absolute(curwin), axis=0)\n",
        "    st += wininc\n",
        "    en += wininc\n",
        "  \n",
        "  return feat"
      ],
      "execution_count": 0,
      "outputs": []
    },
    {
      "cell_type": "code",
      "metadata": {
        "id": "RfDNfX8Jmydr",
        "colab_type": "code",
        "colab": {}
      },
      "source": [
        "def getrmsfeat(x, winsize=None, wininc=None, datawin=None):\n",
        "  if winsize==None:\n",
        "    winsize = x.shape[0]\n",
        "  if wininc==None:\n",
        "    wininc = winsize\n",
        "  if datawin ==None:\n",
        "    datawin = np.ones((winsize,1))\n",
        "  datasize = x.shape[0]\n",
        "  Nsignals = x.shape[1]\n",
        "  numwin = floor((datasize-winsize)/wininc)+1\n",
        "  feat = np.zeros((numwin,Nsignals))\n",
        "  st = 0\n",
        "  en = winsize\n",
        "  for i in range(numwin):\n",
        "    curwin = np.multiply(x[st:en,:],np.matlib.repmat(datawin,1,Nsignals))\n",
        "    feat[i,:] = np.sqrt(np.mean(np.square(curwin), axis=0))\n",
        "    st += wininc\n",
        "    en += wininc\n",
        "  \n",
        "  return feat"
      ],
      "execution_count": 0,
      "outputs": []
    },
    {
      "cell_type": "code",
      "metadata": {
        "id": "c9PmgqwanrgI",
        "colab_type": "code",
        "colab": {}
      },
      "source": [
        "# valores diferentes na funcao DIFF\n",
        "def getsscfeat(x, deadzone, winsize=None, wininc=None, datawin=None):\n",
        "  if winsize==None:\n",
        "    winsize = x.shape[0]\n",
        "  if wininc==None:\n",
        "    wininc = winsize\n",
        "  if datawin ==None:\n",
        "    datawin = np.ones((winsize,1))\n",
        "  x = np.concatenate((np.zeros((1,x.shape[1])),np.diff(x,axis=0)),axis=0)\n",
        "  datasize = x.shape[0]\n",
        "  Nsignals = x.shape[1]\n",
        "  numwin = floor((datasize-winsize)/wininc)+1\n",
        "  feat = np.zeros((numwin,Nsignals))\n",
        "  st = 0\n",
        "  en = winsize\n",
        "  for i in range(numwin):\n",
        "    y = np.multiply(x[st:en,:],np.matlib.repmat(datawin,1,Nsignals))\n",
        "    y = (y>deadzone).astype(np.float32)-(y<-deadzone).astype(np.float32)\n",
        "    a=1\n",
        "    b = np.transpose(np.exp(-(np.array(list(range(1,winsize//2))))))\n",
        "    z = signal.lfilter(b, a, y, axis=0)\n",
        "    z = (z>0).astype(np.float32)-(z<-0).astype(np.float32)\n",
        "    dz = np.diff(z)\n",
        "    feat[i,:] = np.sum(np.absolute(dz)==2, axis=0)\n",
        "    st += wininc\n",
        "    en += wininc\n",
        "  \n",
        "  return feat\n",
        "x = data[2][0]\n",
        "#feat = getsscfeat(x,50,150,75)\n",
        "#feat"
      ],
      "execution_count": 0,
      "outputs": []
    },
    {
      "cell_type": "code",
      "metadata": {
        "id": "RkdFYfX9Z66l",
        "colab_type": "code",
        "colab": {}
      },
      "source": [
        "#codigo quse identico ao SSC (excecao 1a linha comentada abaixo)\n",
        "def getzcfeat(x, deadzone, winsize=None, wininc=None, datawin=None):\n",
        "  if winsize==None:\n",
        "    winsize = x.shape[0]\n",
        "  if wininc==None:\n",
        "    wininc = winsize\n",
        "  if datawin ==None:\n",
        "    datawin = np.ones((winsize,1))\n",
        "  #x = np.concatenate((np.zeros((1,x.shape[1])),np.diff(x,axis=0)),axis=0)\n",
        "  datasize = x.shape[0]\n",
        "  Nsignals = x.shape[1]\n",
        "  numwin = floor((datasize-winsize)/wininc)+1\n",
        "  feat = np.zeros((numwin,Nsignals))\n",
        "  st = 0\n",
        "  en = winsize\n",
        "  for i in range(numwin):\n",
        "    y = np.multiply(x[st:en,:],np.matlib.repmat(datawin,1,Nsignals))\n",
        "    y = (y>deadzone).astype(np.float32)-(y<-deadzone).astype(np.float32)\n",
        "    a=1\n",
        "    b = np.transpose(np.exp(-(np.array(list(range(1,winsize//2))))))\n",
        "    z = signal.lfilter(b, a, y, axis=0)\n",
        "    z = (z>0).astype(np.float32)-(z<-0).astype(np.float32)\n",
        "    dz = np.diff(z, axis=0)\n",
        "    feat[i,:] = np.sum(np.absolute(dz)==2, axis=0)\n",
        "    #dz = diff(z);                       #original matlab\n",
        "    #feat(i,:) = (sum(abs(dz)==2));      #original matlab\n",
        "    st += wininc\n",
        "    en += wininc\n",
        "  \n",
        "  return feat\n",
        "x = data[2][0]\n",
        "#feat = getzcfeat(x,50,150,75)\n",
        "#print(feat.shape, '\\n', feat)"
      ],
      "execution_count": 0,
      "outputs": []
    },
    {
      "cell_type": "code",
      "metadata": {
        "id": "kqcxPk9GZp2e",
        "colab_type": "code",
        "colab": {}
      },
      "source": [
        "# comparacao valores sao proximos do matlab, mas nao sao identicas.\n",
        "# possivel causa na funcao DIFF\n",
        "import numpy.matlib\n",
        "def getwlfeat(x, winsize=None, wininc=None, datawin=None):\n",
        "  if winsize==None:\n",
        "    winsize = x.shape[0]\n",
        "  if wininc==None:\n",
        "    wininc = winsize\n",
        "  if datawin==None:\n",
        "    datawin = np.ones((winsize,1))\n",
        "  datasize = x.shape[0]\n",
        "  Nsignals = x.shape[1]\n",
        "  numwin = ((datasize-winsize)//wininc)+1\n",
        "  feat = np.zeros((numwin,Nsignals))\n",
        "  st = 0\n",
        "  en = winsize\n",
        "  for i in range(numwin):\n",
        "    curwin = np.multiply(x[st:en,:],np.matlib.repmat(datawin,1,Nsignals))\n",
        "    #feat[i,:] = np.sum(np.absolute(np.diff(curwin, axis=0)), axis=0) #iav\n",
        "    feat[i,:] = np.sum(np.absolute(np.diff(curwin, n=2, axis=0)), axis=0)\n",
        "    #feat[i,:] = np.sum(np.absolute(np.diff(np.diff(curwin, axis=0), axis=0)), axis=0)\n",
        "    #feat(i,:) = sum(abs(diff(curwin,2))); #matlab original\n",
        "    st += wininc\n",
        "    en += wininc\n",
        "  return feat\n",
        "\n",
        "x=data[2][0]\n",
        "#x.shape[0]\n",
        "#x.shape[1]\n",
        "#len(x)\n",
        "feat = getwlfeat(x,150,74)\n",
        "#feat\n",
        "#print(feat.shape, x.shape)"
      ],
      "execution_count": 0,
      "outputs": []
    },
    {
      "cell_type": "markdown",
      "metadata": {
        "id": "bOAmSLtF2Z7Q",
        "colab_type": "text"
      },
      "source": [
        "# 1.4 Segmentação e Visualização\n",
        "\n",
        "● Salvar cada grupo de janela em um arquivo separado. (Classe 0 1 2 3 4 5 6)\n",
        "• "
      ]
    },
    {
      "cell_type": "code",
      "metadata": {
        "id": "QMEVDU6XcUA_",
        "colab_type": "code",
        "outputId": "0b433098-d1be-4ba5-ed75-af652a03d9a9",
        "colab": {
          "base_uri": "https://localhost:8080/",
          "height": 34
        }
      },
      "source": [
        "# Funcao captura de dados a partir do index da janela\n",
        "def get_janela(index, janela=None, ind=None, lei=None):\n",
        "  dados_janela = np.zeros((janela,10))\n",
        "  for i in range(janela):\n",
        "    dados_janela[i,:] = data[ind][lei][index+i,0:10]\n",
        "  \n",
        "  return dados_janela\n",
        "\n",
        "#======================================================================\n",
        "def get_5janelas(index, janela=None, ind=None, lei=None):\n",
        "  dados_janela = np.zeros((janela*5,10))\n",
        "  #dados_janela[i,:] = data[ind][lei][index+i,0:10]\n",
        "  #dados_index_janela = np.zeros((janela,10))\n",
        "\n",
        "  for i in range(janela*5):\n",
        "    dados_janela[i,:] = data[ind][lei][index+i,0:10]\n",
        "    #dados_janela = np.concatenate(( dados_index_janela, get_janela(i*passo+janela, janela, ind, lei) )) # Adiciona coluna tempo novamente\n",
        "\n",
        "  sig=9\n",
        "  tmp = dados_janela[90:110,sig]\n",
        "  tmp2 = get_janela(index-10, janela, ind, lei)\n",
        "  #print( np.mean(tmp2[:,9]), np.mean(tmp) )\n",
        "  if (np.max(tmp)>300 or np.min(tmp)<250): \n",
        "    print('5Janela', ind, lei, index)\n",
        "    if abs( np.mean(tmp2[:,9])-np.mean(tmp) )<25:\n",
        "      dados_janela = get_5janelas(index-5, janela, ind, lei)\n",
        "      \n",
        "  return dados_janela\n",
        "\n",
        "#======================================================================\n",
        "# Funcao captura 5 janelas a partir do index\n",
        "def get_5janela(index, janela=None, ind=None, lei=None):\n",
        "  janela2 = janela*5\n",
        "  dados_janela = np.zeros((janela2,10))\n",
        "  for i in range(janela2):\n",
        "    dados_janela[i,:] = data[ind][lei][index+i,0:10]\n",
        "    \n",
        "  # Confere se final da janela sobrepos\n",
        "  #tmp = data[ind][lei][i*passo:i*passo+janela,sig]\n",
        "  #tmp = dados_janela[100:110,sig]\n",
        "  #if np.max(tmp)>300 or np.min(tmp)<250:\n",
        "  #  print('a')\n",
        "  #  dados_janela = get_5janela(index-10, janela, ind, lei)\n",
        "  #else:\n",
        "  return dados_janela\n",
        "\n",
        "#======================================================================\n",
        "''' \n",
        "\n",
        "indd = 2\n",
        "leii = 0\n",
        "indx = 1760\n",
        "\n",
        "teste = get_5janelas(indx, 22, indd, leii) # 5 janelas com recursiva\n",
        "teste2 = get_5janela(indx, 22, indd, leii) # 5 janelas\n",
        "#dados_janela = np.zeros((janela,10))\n",
        "#print( dados_janela) #, teste.shape,  )\n",
        "print( teste.shape, teste2.shape )\n",
        "plt.rcParams[\"figure.figsize\"] = (10,5)    # largura / altura\n",
        "plt.plot(teste)\n",
        "plt.show()\n",
        "plt.plot( teste2 )\n",
        "#print( teste[100:110,:])\n",
        "#''';\n",
        "\n",
        "#Fim\n",
        "print( 'Ok' )"
      ],
      "execution_count": 0,
      "outputs": [
        {
          "output_type": "stream",
          "text": [
            "Ok\n"
          ],
          "name": "stdout"
        }
      ]
    },
    {
      "cell_type": "markdown",
      "metadata": {
        "id": "dGbcxLzvPJ6c",
        "colab_type": "text"
      },
      "source": [
        "# 2) Segmenta TODOS para data*X* [ind] [lei] [classes]"
      ]
    },
    {
      "cell_type": "code",
      "metadata": {
        "id": "UGfdIODePxVH",
        "colab_type": "code",
        "outputId": "9a30da76-a63e-424c-9da8-2e32ce663b85",
        "colab": {
          "base_uri": "https://localhost:8080/",
          "height": 1000
        }
      },
      "source": [
        "# Extrai cada classe para data4[ind][lei][classe]\n",
        "# data5 = classes ajustadas centralizadas\n",
        "\n",
        "contador2 = 0\n",
        "sig = 9\n",
        "data4 = []\n",
        "data5 = [] # Contem dados SEGMENTADOS em 5 JANELAS RECURSIVA\n",
        "\n",
        "# Confere todos INDIVIDUOS\n",
        "for ind1 in range(0, 20):\n",
        "  data4.append([]) #data4[0]\n",
        "  data5.append([])\n",
        "\n",
        "  for lei1 in range(0, 10):                             # Confere todas LEITURAS\n",
        "    data4[ind1].append([]) #data[0][0]\n",
        "    data5[ind1].append([])\n",
        "    \n",
        "    passo = 22\n",
        "    total_leitura = data[ind1][lei1].shape[0]\n",
        "    \n",
        "    classe = 0\n",
        "    ultimaclasse = 50\n",
        "    conta5janela = 0\n",
        "    \n",
        "    data4[ind1][lei1].append([]) #data[0][0][0]\n",
        "    data4[ind1][lei1][classe] = np.array([], dtype=np.int64).reshape(0,10)\n",
        "    data5[ind1][lei1].append([])\n",
        "    data5[ind1][lei1][classe] = np.array([], dtype=np.int64).reshape(0,10)\n",
        "    \n",
        "    # LOOP para cada amostra (cada linha coletada)\n",
        "    for i in range( total_leitura//passo ):\n",
        "      \n",
        "      tmp = data[ind1][lei1][i*passo:i*passo+passo,sig]\n",
        "      \n",
        "      if classe == 12:\n",
        "        #print(i,'Oi')\n",
        "        break\n",
        "        print('aaaaaaaaaa')\n",
        "      \n",
        "      if (np.max(tmp)>300 or np.min(tmp)<250):# or (conta5janela != 5 and conta5janela !=0):\n",
        "        if not inclass:\n",
        "          classe += 1\n",
        "          data4[ind1][lei1].append([])\n",
        "          data5[ind1][lei1].append([])\n",
        "          # Captura janela anterior ao inicio do trigger\n",
        "          #data4[ind1][lei1][classe] = get_janela( (i-1)*passo+passo, passo, ind1, lei1 )\n",
        "          data4[ind1][lei1][classe] = get_5janela( (i-1)*passo+passo, passo, ind1, lei1 )\n",
        "          data5[ind1][lei1][classe] = get_5janelas( (i-1)*passo+passo, passo, ind1, lei1 )\n",
        "          conta5janela += 1\n",
        "            \n",
        "        # Captura janela da classe\n",
        "        #data4[ind1][lei1][classe] = np.concatenate(( data4[ind1][lei1][classe], get_janela( i*passo, passo, ind1, lei1) ))\n",
        "        \n",
        "        #for conta5janela != 5 or conta5janela !=0)\n",
        "        \n",
        "        \n",
        "        ultimaclasse = classe\n",
        "        conta5janela +=1\n",
        "        \n",
        "        inclass = True\n",
        "      else:\n",
        "        inclass = False\n",
        "        #print( classe, ultimaclasse, len( data4[ind1][lei1] ) )\n",
        "        \n",
        "        conta5janela = 0\n",
        "        if ultimaclasse == classe:\n",
        "          classe += 1\n",
        "          data4[ind1][lei1].append([])\n",
        "          data5[ind1][lei1].append([])\n",
        "        \n",
        "          data4[ind1][lei1][classe] = get_janela( i*passo+passo, passo, ind1, lei1 )\n",
        "          data5[ind1][lei1][classe] = get_janela( i*passo+passo, passo, ind1, lei1 )\n",
        "          \n",
        "        data4[ind1][lei1][classe] = np.concatenate(( data4[ind1][lei1][classe], get_janela( i*passo, passo, ind1, lei1) ))\n",
        "        data5[ind1][lei1][classe] = np.concatenate(( data5[ind1][lei1][classe], get_janela( i*passo, passo, ind1, lei1) ))\n",
        "        #ultimaclasse = classe\n",
        "        \n",
        "        \n",
        "      #fim for amostra\n",
        "    #fim for leitura\n",
        "    if (len(data4[ind1][lei1]) != 13):\n",
        "      print( 'Ind:', ind1, 'Lei:', lei1 , 'Classes:', len(data4[ind1][lei1]))\n",
        "  #fim for individuo\n",
        "  \n",
        "\n",
        "\n",
        "\n",
        "'''\n",
        "for grap in range(0,2,2):                        # 0a20, de 2 em 2\n",
        "  plt.clf()\n",
        "\n",
        "'''\n",
        "ind1 = 5\n",
        "lei1 = 1\n",
        "print( len( data4[ind1][lei1] ), contador2, end=' ' )\n",
        "#print( data4[ind1][lei1][0].shape, data4[ind1][lei1][1].shape), data4[ind1][lei1][2].shape );\n",
        "#for i in range(14):\n",
        "#  print(i, data4[1][6][i].shape)\n",
        "print( ' End' )\n"
      ],
      "execution_count": 0,
      "outputs": [
        {
          "output_type": "stream",
          "text": [
            "5Janela 0 2 594\n",
            "5Janela 0 2 589\n",
            "5Janela 1 0 242\n",
            "5Janela 1 0 237\n",
            "5Janela 1 0 440\n",
            "5Janela 1 0 435\n",
            "5Janela 1 0 430\n",
            "5Janela 1 0 425\n",
            "5Janela 1 1 440\n",
            "5Janela 1 2 242\n",
            "5Janela 1 2 440\n",
            "5Janela 1 2 638\n",
            "5Janela 1 5 484\n",
            "5Janela 1 5 479\n",
            "5Janela 1 7 308\n",
            "5Janela 1 7 303\n",
            "5Janela 1 7 506\n",
            "5Janela 1 7 501\n",
            "5Janela 1 7 496\n",
            "5Janela 1 7 594\n",
            "5Janela 1 9 374\n",
            "5Janela 4 1 1144\n",
            "5Janela 4 1 1139\n",
            "5Janela 4 1 1134\n",
            "5Janela 4 1 1129\n",
            "5Janela 4 1 1124\n",
            "5Janela 4 1 1119\n",
            "5Janela 4 1 1114\n",
            "5Janela 8 2 1364\n",
            "5Janela 8 2 1359\n",
            "5Janela 8 2 1354\n",
            "5Janela 8 7 1562\n",
            "5Janela 8 7 1557\n",
            "5Janela 8 7 1552\n",
            "5Janela 8 7 1547\n",
            "5Janela 8 7 1542\n",
            "5Janela 11 3 1474\n",
            "5Janela 11 3 1469\n",
            "5Janela 11 3 1464\n",
            "5Janela 11 3 1459\n",
            "5Janela 11 3 1454\n",
            "5Janela 11 3 1449\n",
            "5Janela 11 3 1444\n",
            "5Janela 11 5 1408\n",
            "5Janela 11 5 1403\n",
            "5Janela 11 5 1398\n",
            "5Janela 11 5 1393\n",
            "5Janela 12 4 1694\n",
            "5Janela 12 4 1689\n",
            "5Janela 12 4 1684\n",
            "5Janela 12 4 1679\n",
            "5Janela 12 4 1674\n",
            "5Janela 12 4 1669\n",
            "5Janela 13 0 1320\n",
            "5Janela 13 0 1315\n",
            "5Janela 13 0 1310\n",
            "5Janela 13 0 1305\n",
            "5Janela 13 0 1300\n",
            "5Janela 13 0 1295\n",
            "5Janela 15 5 1254\n",
            "5Janela 15 5 1249\n",
            "5Janela 15 5 1244\n",
            "5Janela 15 6 1408\n",
            "5Janela 15 6 1403\n",
            "5Janela 15 6 1398\n",
            "5Janela 16 8 1144\n",
            "5Janela 16 8 1139\n",
            "5Janela 16 8 1134\n",
            "5Janela 18 5 1232\n",
            "5Janela 18 5 1227\n",
            "5Janela 19 3 220\n",
            "5Janela 19 3 440\n",
            "5Janela 19 3 435\n",
            "5Janela 19 3 430\n",
            "5Janela 19 3 425\n",
            "5Janela 19 4 154\n",
            "5Janela 19 4 242\n",
            "5Janela 19 4 330\n",
            "5Janela 19 4 325\n",
            "5Janela 19 4 320\n",
            "5Janela 19 4 315\n",
            "5Janela 19 4 310\n",
            "5Janela 19 4 305\n",
            "5Janela 19 4 528\n",
            "5Janela 19 4 523\n",
            "5Janela 19 5 264\n",
            "5Janela 19 5 259\n",
            "5Janela 19 6 484\n",
            "5Janela 19 6 479\n",
            "5Janela 19 6 474\n",
            "5Janela 19 7 264\n",
            "5Janela 19 8 198\n",
            "5Janela 19 8 193\n",
            "5Janela 19 8 188\n",
            "5Janela 19 8 183\n",
            "5Janela 19 8 264\n",
            "5Janela 19 8 259\n",
            "5Janela 19 8 254\n",
            "5Janela 19 8 352\n",
            "5Janela 19 8 347\n",
            "5Janela 19 8 342\n",
            "5Janela 19 8 337\n",
            "5Janela 19 8 332\n",
            "5Janela 19 8 327\n",
            "5Janela 19 8 322\n",
            "5Janela 19 8 317\n",
            "5Janela 19 8 418\n",
            "5Janela 19 8 413\n",
            "5Janela 19 8 408\n",
            "5Janela 19 8 403\n",
            "5Janela 19 8 506\n",
            "5Janela 19 9 176\n",
            "5Janela 19 9 352\n",
            "5Janela 19 9 347\n",
            "5Janela 19 9 342\n",
            "5Janela 19 9 337\n",
            "5Janela 19 9 332\n",
            "5Janela 19 9 327\n",
            "13 0  End\n"
          ],
          "name": "stdout"
        }
      ]
    },
    {
      "cell_type": "markdown",
      "metadata": {
        "id": "DmqiDbwaYUWb",
        "colab_type": "text"
      },
      "source": [
        "# Salva cada CLASSE em arquivo\n"
      ]
    },
    {
      "cell_type": "code",
      "metadata": {
        "id": "xVOUShcMYP3P",
        "colab_type": "code",
        "outputId": "80e8f72c-195b-4f41-bb66-53b90dd6b4ef",
        "colab": {
          "base_uri": "https://localhost:8080/",
          "height": 34
        }
      },
      "source": [
        "# Salva data5 em arquivos.\n",
        "\n",
        "import os\n",
        "import math\n",
        "import matplotlib\n",
        "import matplotlib.pyplot as plt\n",
        "\n",
        "dir_files = 'a'\n",
        "dir_files2 = 'b'\n",
        "a=0\n",
        "b=0\n",
        "x = []\n",
        "#x.append([])\n",
        "y = []\n",
        "#y.append([])\n",
        "#os.makedirs(dir_files, exist_ok=True) #os.mkdir('a')\n",
        "os.makedirs(dir_files2, exist_ok=True) #os.mkdir('b')\n",
        "\n",
        "# SALVA todos dados da variavel DATA4\n",
        "for ind1 in range(0,20):\n",
        "  for lei1 in range(10):\n",
        "    #for clas1 in range( len(data4[ind1][lei1]) ):\n",
        "    #  np.savetxt(str(dir_files)+'/s'+str(ind1)+'m'+str(lei1)+'c'+str(clas1)+'.txt', data4[ind1][lei1][clas1], delimiter=',',fmt='%10.2f')\n",
        "      #print( 'c'+str(a1), '> ', data4[ind1][lei1][a1].shape[0], 'x', data4[ind1][lei1][a1].shape[1] )\n",
        "      #np.savetxt(str(dir_files)+'/s'+str(ind1).zfill(2)+'m'+str(lei1).zfill(2)+'c'+str(clas1).zfill(2)+'.txt', data4[ind1][lei1][clas1], delimiter=',',fmt='%10.2f')\n",
        "      #os.remove('s'+str(ind1)+'m'+str(lei1)+'c'+str(a1)+'.txt')\n",
        "    #print(range( len(data5[ind1][lei1] ) ) )\n",
        "    for clas1 in range( len(data5[ind1][lei1]) ):\n",
        "      \n",
        "      tmp = data5[ind1][lei1][clas1].shape[0]\n",
        "      if tmp > 111:\n",
        "        tmp2 = tmp/110\n",
        "        for i in range( math.floor(tmp2) ):\n",
        "          #b += 1\n",
        "          x.append([])\n",
        "          x[b] = data5[ind1][lei1][clas1][i*110:(i+1)*110,:]\n",
        "          y.append([])\n",
        "          y[b] = 0\n",
        "          \n",
        "          b += 1\n",
        "          #np.savetxt(str(dir_files2)+'/s'+str(ind1)+'m'+str(lei1)+'c'+str(clas1)+'_'+str(i)+'.txt', data5[ind1][lei1][clas1][i*110:(i+1)*110,:], delimiter=',',fmt='%10.2f')\n",
        "      elif tmp == 110:\n",
        "        #b += 1\n",
        "        x.append([])\n",
        "        x[b] = data5[ind1][lei1][clas1]    #[i*110:(i+1)*110,:]\n",
        "        y.append([])\n",
        "        if clas1 % 2 == 0: #Par\n",
        "          y[b] = 0\n",
        "        else:              #Impar\n",
        "          #y[b] = clas1\n",
        "          if clas1 <= 1:\n",
        "            y[b] = clas1\n",
        "          elif clas1 == 3:\n",
        "            y[b] = 2\n",
        "          elif clas1 == 5:\n",
        "            y[b] = 3\n",
        "          elif clas1 == 7:\n",
        "            y[b] = 4\n",
        "          elif clas1 == 9:\n",
        "            y[b] = 5\n",
        "          elif clas1 == 11:\n",
        "            y[b] = 6\n",
        "          elif clas1 == 13:\n",
        "            y[b] = 7\n",
        "            print('-------------------------------------------------')\n",
        "          \n",
        "            #print(b)\n",
        "            \n",
        "        b += 1\n",
        "        #np.savetxt(str(dir_files2)+'/s'+str(ind1)+'m'+str(lei1)+'c'+str(clas1)+'.txt', data5[ind1][lei1][clas1], delimiter=',',fmt='%10.2f')\n",
        "      #elif tmp == 88:\n",
        "      #  esticar\n",
        "      else:\n",
        "        #print('Ignorados:', ind1, lei1, clas1, 'Shape:', tmp)\n",
        "        a += 1\n",
        "    #Para cada leitura\n",
        "    #print ( 'Ind: '+str(ind1)+' Lei: '+str(lei1)+'> ', b1 ,'-', data[ind1][lei1].shape[0], '=', b1-data[ind1][lei1].shape[0] )\n",
        "      \n",
        "        \n",
        "  #Para cada Individuo\n",
        "  #print ( 'Ind: '+str(ind1)+'> ', b1 ,'-', data[ind1][lei1].shape[0], '=', b1-data[ind1][lei1].shape[0] )\n",
        "\n",
        "print( len(x) );\n",
        "  \n",
        "deee = 1\n",
        "#===============================================================================\n",
        "if deee == 0:\n",
        "\n",
        "  plt.rcParams[\"figure.figsize\"] = (15,5)   # largura / altura\n",
        "  for aa in range(6):\n",
        "    plt.subplot(2,6,aa+1)\n",
        "    plt.plot( data4[4][1][aa+1] );\n",
        "    plt.ylim([-50,700])  \n",
        "  #plt.subplot(221)\n",
        "  #plt.plot( data4[0][0][0] );\n"
      ],
      "execution_count": 0,
      "outputs": [
        {
          "output_type": "stream",
          "text": [
            "2695\n"
          ],
          "name": "stdout"
        }
      ]
    },
    {
      "cell_type": "code",
      "metadata": {
        "id": "xibfZRsb7cvw",
        "colab_type": "code",
        "outputId": "5601d6ee-99bc-4126-9557-1218a5a27b1e",
        "colab": {
          "base_uri": "https://localhost:8080/",
          "height": 52
        }
      },
      "source": [
        "# Plot Histograma teste\n",
        "#''';\n",
        "import matplotlib.pyplot as plt\n",
        "#x=[]\n",
        "#x.append([])\n",
        "#x[1] = 1\n",
        "#num = 0\n",
        "#y=[]\n",
        "#print(x[num], y[num], len(x), '\\n', x[3120] )\n",
        "#print( min(y), max(y), y[0] )\n",
        "#print( min(y) )\n",
        "#print(x[3120])\n",
        "a0 = 0\n",
        "a1 = 0\n",
        "a2 = 0\n",
        "a3 = 0\n",
        "a4 = 0\n",
        "a5 = 0\n",
        "a6 = 0\n",
        "a7 = 0\n",
        "#yct=[]\n",
        "for i in range(0, len(x) ):\n",
        "  if y[i] == 0:\n",
        "    a0 += 1\n",
        "  if y[i] == 1:\n",
        "    a1 += 1\n",
        "  if y[i] == 2:\n",
        "    a2 += 1\n",
        "  if y[i] == 3:\n",
        "    a3 += 1\n",
        "  if y[i] == 4:\n",
        "    a4 += 1\n",
        "  if y[i] == 5:\n",
        "    a5 += 1\n",
        "  if y[i] == 6:\n",
        "    a6 += 1\n",
        "  if y[i] == 7:\n",
        "    a7 += 1\n",
        "  \n",
        "  #for ii in range(0,7):\n",
        "  #  if y[i] == ii:\n",
        "  #    yct.append([])\n",
        "  #    yct[ii] += 1\n",
        "\n",
        "print( a0, a1, a2, a3, a4, a5, a6, a7)\n",
        "print( y[0:20] )\n",
        "#print( )\n",
        "  \n",
        "#plt.hist(y, bins=14)\n",
        "#''';"
      ],
      "execution_count": 0,
      "outputs": [
        {
          "output_type": "stream",
          "text": [
            "1495 200 200 200 200 200 200 0\n",
            "[0, 0, 1, 0, 2, 0, 3, 0, 4, 0, 5, 0, 6, 0, 0, 0, 1, 0, 2, 0]\n"
          ],
          "name": "stdout"
        }
      ]
    },
    {
      "cell_type": "markdown",
      "metadata": {
        "id": "CJ41NgZ07whL",
        "colab_type": "text"
      },
      "source": [
        "# 3) Classificadores"
      ]
    },
    {
      "cell_type": "code",
      "metadata": {
        "id": "k9UlKClX71l4",
        "colab_type": "code",
        "colab": {}
      },
      "source": [
        "# Exemplo de RF tirado de:\n",
        "# https://colab.research.google.com/github/jakevdp/PythonDataScienceHandbook/blob/master/notebooks/05.08-Random-Forests.ipynb#scrollTo=Q647tymJ3qpf\n",
        "%matplotlib inline\n",
        "import numpy as np\n",
        "import matplotlib.pyplot as plt\n",
        "import seaborn as sns; sns.set()"
      ],
      "execution_count": 0,
      "outputs": []
    },
    {
      "cell_type": "markdown",
      "metadata": {
        "id": "9q6uqleLiTIw",
        "colab_type": "text"
      },
      "source": [
        "3.0) k-fold"
      ]
    },
    {
      "cell_type": "code",
      "metadata": {
        "id": "IGw4o4oribFI",
        "colab_type": "code",
        "colab": {}
      },
      "source": [
        "#https://towardsdatascience.com/train-test-split-and-cross-validation-in-python-80b61beca4b6\n",
        "\n",
        "import pandas as pd\n",
        "import numpy as np\n",
        "from sklearn import datasets, linear_model\n",
        "from sklearn.model_selection import train_test_split\n",
        "from matplotlib import pyplot as plt"
      ],
      "execution_count": 0,
      "outputs": []
    },
    {
      "cell_type": "code",
      "metadata": {
        "id": "-5glEK-4iiVb",
        "colab_type": "code",
        "colab": {}
      },
      "source": [
        "# Load the Diabetes dataset\n",
        "columns = 'age sex bmi map tc ldl hdl tch ltg glu'.split() # Declare the columns names\n",
        "diabetes = datasets.load_diabetes() # Call the diabetes dataset from sklearn\n",
        "df = pd.DataFrame(diabetes.data, columns=columns) # load the dataset as a pandas data frame\n",
        "yfff = diabetes.target # define the target variable (dependent variable) as yfff"
      ],
      "execution_count": 0,
      "outputs": []
    },
    {
      "cell_type": "code",
      "metadata": {
        "id": "c2gi8QXsitAl",
        "colab_type": "code",
        "outputId": "efb9e9ef-e368-40e2-d925-0367e109349a",
        "colab": {
          "base_uri": "https://localhost:8080/",
          "height": 70
        }
      },
      "source": [
        "# create training and testing vars\n",
        "X_train, X_test, y_train, y_test = train_test_split(df, yfff, test_size=0.2)\n",
        "print(X_train.shape, y_train.shape)\n",
        "print(X_test.shape, y_test.shape)\n",
        "#(353, 10) (353,)\n",
        "#(89, 10) (89,)\n",
        "print('# ', df.shape, yfff.shape, columns[0:2]);"
      ],
      "execution_count": 0,
      "outputs": [
        {
          "output_type": "stream",
          "text": [
            "(353, 10) (353,)\n",
            "(89, 10) (89,)\n",
            "#  (442, 10) (442,) ['age', 'sex']\n"
          ],
          "name": "stdout"
        }
      ]
    },
    {
      "cell_type": "code",
      "metadata": {
        "id": "05qbK9tciyvk",
        "colab_type": "code",
        "colab": {}
      },
      "source": [
        "# fit a model\n",
        "lm = linear_model.LinearRegression()\n",
        "model = lm.fit(X_train, y_train)\n",
        "predictions = lm.predict(X_test)"
      ],
      "execution_count": 0,
      "outputs": []
    },
    {
      "cell_type": "code",
      "metadata": {
        "id": "IubUpfcLi1cr",
        "colab_type": "code",
        "outputId": "11bb5ff3-e2e4-4d20-a61d-f172d203d355",
        "colab": {
          "base_uri": "https://localhost:8080/",
          "height": 52
        }
      },
      "source": [
        "predictions[0:5]\n",
        "#array([ 205.68012533,   64.58785513,  175.12880278,  169.95993301, 128.92035866])"
      ],
      "execution_count": 0,
      "outputs": [
        {
          "output_type": "execute_result",
          "data": {
            "text/plain": [
              "array([222.20970166, 127.11745725, 197.68055845, 207.05841893,\n",
              "       146.50078489])"
            ]
          },
          "metadata": {
            "tags": []
          },
          "execution_count": 11
        }
      ]
    },
    {
      "cell_type": "code",
      "metadata": {
        "id": "SW1cvDfbi4nq",
        "colab_type": "code",
        "outputId": "33ce8e8b-1d03-483c-d76d-e3504810f394",
        "colab": {
          "base_uri": "https://localhost:8080/",
          "height": 309
        }
      },
      "source": [
        "## The line / model\n",
        "plt.scatter(y_test, predictions)\n",
        "plt.xlabel('True Values')\n",
        "plt.ylabel('Predictions')"
      ],
      "execution_count": 0,
      "outputs": [
        {
          "output_type": "execute_result",
          "data": {
            "text/plain": [
              "Text(0, 0.5, 'Predictions')"
            ]
          },
          "metadata": {
            "tags": []
          },
          "execution_count": 12
        },
        {
          "output_type": "display_data",
          "data": {
            "image/png": "[encoded data removed]",
            "text/plain": [
              "<Figure size 432x288 with 1 Axes>"
            ]
          },
          "metadata": {
            "tags": []
          }
        }
      ]
    },
    {
      "cell_type": "code",
      "metadata": {
        "id": "6jM0OSgWi9pg",
        "colab_type": "code",
        "outputId": "8b9a703c-e548-45e9-ac88-092957913df3",
        "colab": {
          "base_uri": "https://localhost:8080/",
          "height": 34
        }
      },
      "source": [
        "print('Score:', model.score(X_test, y_test) )\n",
        "#Score: 0.485829586737"
      ],
      "execution_count": 0,
      "outputs": [
        {
          "output_type": "stream",
          "text": [
            "Score: 0.5073402065434711\n"
          ],
          "name": "stdout"
        }
      ]
    },
    {
      "cell_type": "code",
      "metadata": {
        "id": "vBDaT1FCjEzd",
        "colab_type": "code",
        "outputId": "2dfe03fe-cbb5-4519-a4e8-789dad6f3a7c",
        "colab": {
          "base_uri": "https://localhost:8080/",
          "height": 34
        }
      },
      "source": [
        "from sklearn.model_selection import KFold # import KFold\n",
        "\n",
        "Xaaa = np.array([[1, 2], [3, 4], [1, 2], [3, 4]]) # create an array\n",
        "yaaa = np.array([1, 2, 3, 4]) # Create another array\n",
        "kf = KFold(n_splits=2) # Define the split - into 2 folds \n",
        "kf.get_n_splits(Xaaa) # returns the number of splitting iterations in the cross-validator\n",
        "print(kf) \n",
        "#KFold(n_splits=2, random_state=None, shuffle=False)"
      ],
      "execution_count": 0,
      "outputs": [
        {
          "output_type": "stream",
          "text": [
            "KFold(n_splits=2, random_state=None, shuffle=False)\n"
          ],
          "name": "stdout"
        }
      ]
    },
    {
      "cell_type": "code",
      "metadata": {
        "id": "Ivk7oOiCjFYQ",
        "colab_type": "code",
        "outputId": "13f898a6-5e85-4859-87b1-59bc212e5525",
        "colab": {
          "base_uri": "https://localhost:8080/",
          "height": 52
        }
      },
      "source": [
        "for train_index, test_index in kf.split(Xaaa):\n",
        "  print('TRAIN:', train_index, 'TEST:', test_index)\n",
        "  X_train, X_test = Xaaa[train_index], Xaaa[test_index]\n",
        "  y_train, y_test = yaaa[train_index], yaaa[test_index]\n",
        "  \n",
        "#('TRAIN:', array([2, 3]), 'TEST:', array([0, 1]))\n",
        "#('TRAIN:', array([0, 1]), 'TEST:', array([2, 3]))"
      ],
      "execution_count": 0,
      "outputs": [
        {
          "output_type": "stream",
          "text": [
            "TRAIN: [2 3] TEST: [0 1]\n",
            "TRAIN: [0 1] TEST: [2 3]\n"
          ],
          "name": "stdout"
        }
      ]
    },
    {
      "cell_type": "markdown",
      "metadata": {
        "id": "C4ISGNl5qDbc",
        "colab_type": "text"
      },
      "source": [
        "# 3.1) KNN"
      ]
    },
    {
      "cell_type": "code",
      "metadata": {
        "id": "AzOUdHaHpr6s",
        "colab_type": "code",
        "colab": {}
      },
      "source": [
        "# Adaptado de Hand written digits\n",
        "# https://github.com/mohan-mj/Random-Forest-Classification/blob/master/Hand%20written%20digits.ipynb\n",
        "# The digits dataset\n",
        "#''';\n",
        "\n",
        "import matplotlib.pyplot as plt\n",
        "from sklearn import datasets, metrics\n",
        "#from sklearn.ensemble import RandomForestClassifier\n",
        "from sklearn.neighbors import KNeighborsClassifier\n",
        "\n",
        "#''';"
      ],
      "execution_count": 0,
      "outputs": []
    },
    {
      "cell_type": "code",
      "metadata": {
        "id": "0gbtnqIErJc6",
        "colab_type": "code",
        "outputId": "9910501f-9d60-45e7-b454-023b8691f651",
        "colab": {
          "base_uri": "https://localhost:8080/",
          "height": 34
        }
      },
      "source": [
        "# Converte LIST em ARRAY\n",
        "\n",
        "xa = np.asarray(x)\n",
        "ya = np.asarray(y)\n",
        "\n",
        "p_samples = len(xa)\n",
        "p_data = xa.reshape((p_samples, -1))\n",
        "\n",
        "print( p_samples, xa.shape, p_data.shape, ya.shape)"
      ],
      "execution_count": 0,
      "outputs": [
        {
          "output_type": "stream",
          "text": [
            "2695 (2695, 110, 10) (2695, 1100) (2695,)\n"
          ],
          "name": "stdout"
        }
      ]
    },
    {
      "cell_type": "code",
      "metadata": {
        "id": "X5XOv0hwrPGk",
        "colab_type": "code",
        "outputId": "adf2b8f0-4a4c-4c7a-dea5-5ef8d7a00131",
        "colab": {
          "base_uri": "https://localhost:8080/",
          "height": 70
        }
      },
      "source": [
        "# ==============================================================================\n",
        "# Create a classifier: a random forest classifier\n",
        "# classifierpiol = RandomForestClassifier(n_estimators=30, criterion='entropy')\n",
        "classifierKNN = KNeighborsClassifier(n_neighbors = 3)\n",
        "\n",
        "# We learn the digits on the first half of the digits\n",
        "# classifierpiol.fit(p_data[:p_samples // 10*7], ya[:p_samples // 10*7])\n",
        "classifierKNN.fit(p_data[:p_samples // 10*7], ya[:p_samples // 10*7])"
      ],
      "execution_count": 0,
      "outputs": [
        {
          "output_type": "execute_result",
          "data": {
            "text/plain": [
              "KNeighborsClassifier(algorithm='auto', leaf_size=30, metric='minkowski',\n",
              "                     metric_params=None, n_jobs=None, n_neighbors=3, p=2,\n",
              "                     weights='uniform')"
            ]
          },
          "metadata": {
            "tags": []
          },
          "execution_count": 21
        }
      ]
    },
    {
      "cell_type": "code",
      "metadata": {
        "id": "NhiP15NPrTFg",
        "colab_type": "code",
        "colab": {}
      },
      "source": [
        "# Now predict the value of the digit on the second half:\n",
        "expected = ya[p_samples // 10*3:]\n",
        "#predicted = classifierpiol.predict(p_data[p_samples // 10*3:])\n",
        "predicted = classifierKNN.predict(p_data[p_samples // 10*3:])"
      ],
      "execution_count": 0,
      "outputs": []
    },
    {
      "cell_type": "code",
      "metadata": {
        "id": "yf8x8qKFrWkr",
        "colab_type": "code",
        "outputId": "b1138194-2fab-41ab-cf58-b4908d4a4db0",
        "colab": {
          "base_uri": "https://localhost:8080/",
          "height": 34
        }
      },
      "source": [
        "#classifierpiol.score(p_data[p_samples // 10*3:], expected)\n",
        "classifierKNN.score(p_data[p_samples // 10*3:], expected)"
      ],
      "execution_count": 0,
      "outputs": [
        {
          "output_type": "execute_result",
          "data": {
            "text/plain": [
              "0.8776483050847458"
            ]
          },
          "metadata": {
            "tags": []
          },
          "execution_count": 23
        }
      ]
    },
    {
      "cell_type": "code",
      "metadata": {
        "id": "qFGLml8CrY8_",
        "colab_type": "code",
        "outputId": "2c47e91a-17e3-4ef4-c880-5f68978d4e59",
        "colab": {
          "base_uri": "https://localhost:8080/",
          "height": 193
        }
      },
      "source": [
        "cm = metrics.confusion_matrix(expected, predicted)\n",
        "print(\"Confusion matrix:\\n%s\" % cm)\n",
        "print( 'F1_score:',  metrics.f1_score(expected, predicted, average=None) )\n",
        "cm = cm.astype('float') / cm.sum(axis=1)[:, np.newaxis]\n",
        "#print('Normalized: \\n', cm)"
      ],
      "execution_count": 0,
      "outputs": [
        {
          "output_type": "stream",
          "text": [
            "Confusion matrix:\n",
            "[[1072    0    0    0    0    0    0]\n",
            " [  20  115    0    1    0    0    0]\n",
            " [  11   29   89    5    2    0    0]\n",
            " [  55    0    0   81    0    0    0]\n",
            " [  24   14    0   33   65    0    0]\n",
            " [   2    4    0    0    0  127    3]\n",
            " [   3    0    4    0    1   20  108]]\n",
            "F1_score: [0.94909252 0.77181208 0.77729258 0.6328125  0.6372549  0.8975265\n",
            " 0.87449393]\n"
          ],
          "name": "stdout"
        }
      ]
    },
    {
      "cell_type": "code",
      "metadata": {
        "id": "PXSk9igB2mps",
        "colab_type": "code",
        "outputId": "1a9ffa3e-a71c-43d0-d952-d157e381a43a",
        "colab": {
          "base_uri": "https://localhost:8080/",
          "height": 1000
        }
      },
      "source": [
        "# Adaptado de:\n",
        "# https://scikit-learn.org/stable/auto_examples/model_selection/plot_confusion_matrix.html#sphx-glr-auto-examples-model-selection-plot-confusion-matrix-py\n",
        "#print(__doc__)\n",
        "\n",
        "import numpy as np\n",
        "import matplotlib.pyplot as plt\n",
        "\n",
        "from sklearn import svm, datasets\n",
        "from sklearn.model_selection import train_test_split\n",
        "from sklearn.metrics import confusion_matrix\n",
        "from sklearn.utils.multiclass import unique_labels\n",
        "\n",
        "class_names = np.array([ 'Classe 0', 'Classe 1', 'Classe 2', 'Classe 3',\n",
        "                        'Classe 4',  'Classe 5', 'Classe 6', 'Classe 7'])\n",
        "y_test = expected\n",
        "y_pred = predicted\n",
        "\n",
        "def plot_confusion_matrix(y_true, y_pred, classes,\n",
        "                          normalize=False,\n",
        "                          title=None,\n",
        "                          cmap=plt.cm.Blues):\n",
        "    \"\"\"\n",
        "    This function prints and plots the confusion matrix.\n",
        "    Normalization can be applied by setting `normalize=True`.\n",
        "    \"\"\"\n",
        "    if not title:\n",
        "        if normalize:\n",
        "            title = 'Normalized confusion matrix'\n",
        "        else:\n",
        "            title = 'Confusion matrix, without normalization'\n",
        "\n",
        "    # Compute confusion matrix\n",
        "    cm = confusion_matrix(y_true, y_pred)\n",
        "    # Only use the labels that appear in the data\n",
        "    classes = classes[unique_labels(y_true, y_pred)]\n",
        "    if normalize:\n",
        "        cm = cm.astype('float') / cm.sum(axis=1)[:, np.newaxis]\n",
        "        print(\"Normalized confusion matrix\")\n",
        "    else:\n",
        "        print('Confusion matrix, without normalization')\n",
        "\n",
        "    #print(cm)\n",
        "\n",
        "    fig, ax = plt.subplots()\n",
        "    im = ax.imshow(cm, interpolation='nearest', cmap=cmap)\n",
        "    ax.figure.colorbar(im, ax=ax)\n",
        "    # We want to show all ticks...\n",
        "    ax.set(xticks=np.arange(cm.shape[1]),\n",
        "           yticks=np.arange(cm.shape[0]),\n",
        "           # ... and label them with the respective list entries\n",
        "           xticklabels=classes, yticklabels=classes,\n",
        "           title=title,\n",
        "           ylabel='Classe verdadeira',\n",
        "           xlabel='Classe estimada')\n",
        "\n",
        "    # Rotate the tick labels and set their alignment.\n",
        "    plt.setp(ax.get_xticklabels(), rotation=90, ha=\"right\",\n",
        "             rotation_mode=\"anchor\")\n",
        "\n",
        "    # Loop over data dimensions and create text annotations.\n",
        "    fmt = '.2f' if normalize else 'd'\n",
        "    thresh = cm.max() / 2.\n",
        "    for i in range(cm.shape[0]):\n",
        "        for j in range(cm.shape[1]):\n",
        "            ax.text(j, i, format(cm[i, j], fmt),\n",
        "                    ha=\"center\", va=\"center\",\n",
        "                    color=\"white\" if cm[i, j] > thresh else \"black\")\n",
        "    fig.tight_layout()\n",
        "    ax.grid(None)\n",
        "    fig.set_size_inches(10,10)\n",
        "    return ax\n",
        "\n",
        "\n",
        "np.set_printoptions(precision=2)\n",
        "\n",
        "# Plot non-normalized confusion matrix\n",
        "plot_confusion_matrix(y_test, y_pred, classes=class_names,\n",
        "                      title='Matriz confusão, sem normalização')\n",
        "\n",
        "# Plot normalized confusion matrix\n",
        "plot_confusion_matrix(y_test, y_pred, classes=class_names, normalize=True,\n",
        "                      title='Matriz confusão normalizada')\n",
        "\n",
        "\n",
        "plt.show()\n",
        "\n",
        "# Metricas\n",
        "print()"
      ],
      "execution_count": 0,
      "outputs": [
        {
          "output_type": "stream",
          "text": [
            "Confusion matrix, without normalization\n",
            "Normalized confusion matrix\n"
          ],
          "name": "stdout"
        },
        {
          "output_type": "display_data",
          "data": {
            "image/png": "[encoded data removed]",
            "text/plain": [
              "<Figure size 720x720 with 2 Axes>"
            ]
          },
          "metadata": {
            "tags": []
          }
        },
        {
          "output_type": "display_data",
          "data": {
            "image/png": "[encoded data removed]",
            "text/plain": [
              "<Figure size 720x720 with 2 Axes>"
            ]
          },
          "metadata": {
            "tags": []
          }
        },
        {
          "output_type": "stream",
          "text": [
            "\n"
          ],
          "name": "stdout"
        }
      ]
    },
    {
      "cell_type": "code",
      "metadata": {
        "id": "p24m-gyXgnKS",
        "colab_type": "code",
        "outputId": "fdaa2c44-f4ac-45fd-85d8-bb3ea23e991e",
        "colab": {
          "base_uri": "https://localhost:8080/",
          "height": 158
        }
      },
      "source": [
        "import pandas as pd\n",
        "print( p_data[:p_samples // 10*7].shape )\n",
        "#'''\n",
        "\n",
        "#feature_importances = pd.DataFrame(classifierpiol.feature_importances_).sort_values(by=0,ascending=False)\n",
        "\n",
        "names = ya[0:7]\n",
        "p_data[:p_samples // 10*7]\n",
        "\n",
        "#print sorted(zip(map(lambda p_data[:p_samples // 10*7]: round(p_data[:p_samples // 10*7], 4), classifierpiol.feature_importances_), names), \n",
        "#             reverse=True)\n",
        "#''';\n",
        "#y_pred[0:10]"
      ],
      "execution_count": 0,
      "outputs": [
        {
          "output_type": "stream",
          "text": [
            "(1883, 1100)\n"
          ],
          "name": "stdout"
        },
        {
          "output_type": "execute_result",
          "data": {
            "text/plain": [
              "array([[229., 254., 474., ..., 497., 282., 280.],\n",
              "       [240., 253., 478., ..., 507., 282., 281.],\n",
              "       [249., 266., 478., ..., 500., 283., 280.],\n",
              "       ...,\n",
              "       [194., 192., 455., ..., 500., 276., 278.],\n",
              "       [248., 238., 468., ..., 499., 278., 274.],\n",
              "       [246., 199., 479., ..., 494., 280., 279.]])"
            ]
          },
          "metadata": {
            "tags": []
          },
          "execution_count": 26
        }
      ]
    }
  ]
}